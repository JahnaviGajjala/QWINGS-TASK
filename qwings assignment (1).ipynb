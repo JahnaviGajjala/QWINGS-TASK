{
 "cells": [
  {
   "cell_type": "markdown",
   "metadata": {},
   "source": [
    "Q. 1- If x=[1,2,3,4,5,6,7,8,9,10] and y=[5,10,15,20,25,30,35,40,45,50]\n",
    "write a python program to predict the values of y for x=15,20, & 30, and also plot the trendline. \n",
    "Case-1: Solve the above problem using LinearRegression() inbuilt function.\n",
    "Case-2: Solve the above problem without using any inbuilt function.\n"
   ]
  },
  {
   "cell_type": "code",
   "execution_count": 20,
   "metadata": {},
   "outputs": [
    {
     "name": "stdout",
     "output_type": "stream",
     "text": [
      "coefficient of determination: 1.0\n",
      "intercept: 3.552713678800501e-15\n",
      "slope: [5.]\n",
      "[ 75. 100. 150.]\n"
     ]
    }
   ],
   "source": [
    "# Case-1: Solve the above problem using LinearRegression() inbuilt function.\n",
    "\n",
    "import numpy as np\n",
    "from sklearn.linear_model import LinearRegression\n",
    "\n",
    "\n",
    "x=np.array([1,2,3,4,5,6,7,8,9,10]).reshape((-1,1))\n",
    "y=np.array([5,10,15,20,25,30,35,40,45,50])\n",
    "\n",
    "\n",
    "model = LinearRegression()\n",
    "model.fit(x, y)\n",
    "r_sq = model.score(x, y)\n",
    "print('coefficient of determination:', r_sq)\n",
    "print('intercept:', model.intercept_)\n",
    "print('slope:', model.coef_)\n",
    "\n",
    "x = np.array([15,20,30]).reshape((-1,1))\n",
    "y_pred = model.predict(x)\n",
    "print(y_pred)\n"
   ]
  },
  {
   "cell_type": "code",
   "execution_count": 21,
   "metadata": {},
   "outputs": [
    {
     "name": "stdout",
     "output_type": "stream",
     "text": [
      "75.0\n",
      "100.0\n",
      "150.0\n"
     ]
    }
   ],
   "source": [
    "# Case-2: Solve the above problem without using any inbuilt function.\n",
    "\n",
    "x = [1,2,3,4,5,6,7,8,9,10]\n",
    "y = [5,10,15,20,25,30,35,40,45,50]\n",
    "\n",
    "r = r_sq\n",
    "stdx = np.std(x)\n",
    "stdy = np.std(y)\n",
    "mx = np.mean(x)\n",
    "my = np.mean(y)\n",
    "\n",
    "x = [15,20,30] \n",
    "for i in x:\n",
    "    y_pre = (((r * stdy)/stdx) * (i - mx)) + my      \n",
    "    print(y_pre)"
   ]
  },
  {
   "cell_type": "code",
   "execution_count": 22,
   "metadata": {},
   "outputs": [
    {
     "data": {
      "image/png": "[encoded data removed]",
      "text/plain": [
       "<Figure size 432x288 with 1 Axes>"
      ]
     },
     "metadata": {},
     "output_type": "display_data"
    }
   ],
   "source": [
    "import numpy as np\n",
    "import matplotlib.pyplot as plt\n",
    "x = np.array([15,20,30]).reshape((-1,1))\n",
    "y_pred = model.predict(x)\n",
    "\n",
    "plt.scatter(x, y_pred,  color='black')\n",
    "plt.plot(x, y_pred, color='blue', linewidth=3)\n",
    "\n",
    "plt.xticks(())\n",
    "plt.yticks(())\n",
    "\n",
    "plt.show()"
   ]
  },
  {
   "cell_type": "markdown",
   "metadata": {},
   "source": [
    "Q.2- If x=[1,2,3,4,5,6,7,8,9,10] and y=[5,10,15,20,25,30,35,40,45,50], write a python program to divide this in training and test data (assume 20% of total data will be pushed for test data).\n",
    "\n",
    "Case-1: Solve the above problem using train_test_split inbuilt function.\n",
    "Case-2: Solve the above problem without using any inbuilt function.\n"
   ]
  },
  {
   "cell_type": "code",
   "execution_count": 23,
   "metadata": {},
   "outputs": [],
   "source": [
    "# Case-1\n",
    "#Dividing the training and test data using train_test_split inbuilt function\n",
    "\n",
    "from sklearn.model_selection import train_test_split\n",
    "\n",
    "# split data into training and test data, for both features and target\n",
    "\n",
    "x=[1,2,3,4,5,6,7,8,9,10]\n",
    "y=[5,10,15,20,25,30,35,40,45,50]  \n",
    "x_train,x_test,y_train,y_test=train_test_split(x,y,test_size=0.2)"
   ]
  },
  {
   "cell_type": "code",
   "execution_count": 24,
   "metadata": {},
   "outputs": [],
   "source": [
    "# Case-2\n",
    "#Dividing the training and test data without using inbuilt function\n",
    "\n",
    "import numpy as np\n",
    "import pandas as pd\n",
    "\n",
    "x=[1,2,3,4,5,6,7,8,9,10]\n",
    "y=[5,10,15,20,25,30,35,40,45,50] \n",
    "\n",
    "train_index = int(0.8 * len(x))\n",
    "x_train, x_test = x[:train_index], x[train_index:]\n",
    "y_train, y_test = y[:train_index], y[train_index:]\n"
   ]
  },
  {
   "cell_type": "markdown",
   "metadata": {},
   "source": [
    "Q. 3- If x=[1,2,3,4,5,6,7,8,9,10] and y=[5,10,15,20,25,30,35,40,45,50], write a python program to find the mean squared error if linear regression model is used to plot the trendline.\n",
    "\n",
    "Case-1: Solve the above problem using inbuilt function.\n",
    "Case-2: Solve the above problem without using any inbuilt function."
   ]
  },
  {
   "cell_type": "code",
   "execution_count": 25,
   "metadata": {},
   "outputs": [
    {
     "name": "stdout",
     "output_type": "stream",
     "text": [
      "[45. 50.]\n",
      "Coefficients: \n",
      " [5.]\n",
      "Mean squared error: 0.00\n",
      "Coefficient of determination: 1.00\n"
     ]
    },
    {
     "data": {
      "image/png": "[encoded data removed]",
      "text/plain": [
       "<Figure size 432x288 with 1 Axes>"
      ]
     },
     "metadata": {},
     "output_type": "display_data"
    }
   ],
   "source": [
    "# Case-1: Solve the above problem using inbuilt function.\n",
    "\n",
    "import matplotlib.pyplot as plt\n",
    "import numpy as np\n",
    "from sklearn import datasets, linear_model\n",
    "from sklearn.metrics import mean_squared_error, r2_score\n",
    "\n",
    "x = np.array([1,2,3,4,5,6,7,8,9,10]).reshape((-1,1))\n",
    "y = np.array([5,10,15,20,25,30,35,40,45,50])\n",
    "\n",
    "train_index = int(0.8 * len(x))\n",
    "x_train, x_test = x[:train_index], x[train_index:]\n",
    "y_train, y_test = y[:train_index], y[train_index:]\n",
    "regr = linear_model.LinearRegression()\n",
    "regr.fit(x_train,y_train)\n",
    "y_pred = regr.predict(x_test)\n",
    "\n",
    "print(y_pred)\n",
    "\n",
    "print('Coefficients: \\n', regr.coef_)\n",
    "print('Mean squared error: %.2f'% mean_squared_error(y_test, y_pred))\n",
    "print('Coefficient of determination: %.2f'% r2_score(y_test, y_pred))\n",
    "\n",
    "plt.scatter(x_test, y_test,  color='black')\n",
    "plt.plot(x_test, y_pred, color='blue', linewidth=3)\n",
    "\n",
    "plt.xticks(())\n",
    "plt.yticks(())\n",
    "\n",
    "plt.show()"
   ]
  },
  {
   "cell_type": "code",
   "execution_count": 26,
   "metadata": {},
   "outputs": [
    {
     "name": "stdout",
     "output_type": "stream",
     "text": [
      "0.0\n"
     ]
    }
   ],
   "source": [
    "# Case-2: Solve the above problem without using any inbuilt function.\n",
    "MSE = np.square(np.subtract(y_test,y_pred)).mean() \n",
    "print(MSE)"
   ]
  },
  {
   "cell_type": "code",
   "execution_count": null,
   "metadata": {},
   "outputs": [],
   "source": []
  }
 ],
 "metadata": {
  "kernelspec": {
   "display_name": "Python 3",
   "language": "python",
   "name": "python3"
  },
  "language_info": {
   "codemirror_mode": {
    "name": "ipython",
    "version": 3
   },
   "file_extension": ".py",
   "mimetype": "text/x-python",
   "name": "python",
   "nbconvert_exporter": "python",
   "pygments_lexer": "ipython3",
   "version": "3.8.5"
  }
 },
 "nbformat": 4,
 "nbformat_minor": 4
}
